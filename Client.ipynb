{
 "cells": [
  {
   "cell_type": "code",
   "execution_count": 25,
   "metadata": {},
   "outputs": [
    {
     "name": "stdout",
     "output_type": "stream",
     "text": [
      "Sending operation to server: 7 * 2\n",
      "Result from server: 14\n"
     ]
    }
   ],
   "source": [
    "import socket\n",
    "\n",
    "HOST = '127.0.0.1'  # The server's hostname or IP address\n",
    "PORT = 12345  # The port number that the server listens on\n",
    "\n",
    "# Create a TCP socket\n",
    "client_socket = socket.socket(socket.AF_INET, socket.SOCK_STREAM)\n",
    "\n",
    "# Connect to the server\n",
    "client_socket.connect((HOST, PORT))\n",
    "\n",
    "# Define an arithmetic operation as a string\n",
    "operation = \"7 * 2\"\n",
    "print(f\"Sending operation to server: {operation}\")\n",
    "\n",
    "# Convert the operation to a string\n",
    "operation_str = str(operation)\n",
    "\n",
    "# Send the operation to the server\n",
    "client_socket.sendall(operation_str.encode())\n",
    "\n",
    "# Receive the result from the server\n",
    "result = client_socket.recv(1024).decode()\n",
    "\n",
    "# Print the result\n",
    "print(f\"Result from server: {result}\")\n",
    "\n",
    "# Close the client socket\n",
    "client_socket.close()"
   ]
  },
  {
   "cell_type": "code",
   "execution_count": null,
   "metadata": {},
   "outputs": [],
   "source": []
  }
 ],
 "metadata": {
  "kernelspec": {
   "display_name": "Python 3",
   "language": "python",
   "name": "python3"
  },
  "language_info": {
   "codemirror_mode": {
    "name": "ipython",
    "version": 3
   },
   "file_extension": ".py",
   "mimetype": "text/x-python",
   "name": "python",
   "nbconvert_exporter": "python",
   "pygments_lexer": "ipython3",
   "version": "3.7.4"
  }
 },
 "nbformat": 4,
 "nbformat_minor": 2
}
